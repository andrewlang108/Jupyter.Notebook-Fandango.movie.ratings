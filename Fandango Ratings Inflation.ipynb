{
 "cells": [
  {
   "cell_type": "markdown",
   "id": "7ba791da",
   "metadata": {},
   "source": [
    "# Analyzing Fandango Movie Ratings\n",
    "\n",
    "It was revealed previously that Fandango was artificially increasing the ratings of movies displayed on their website. After being exposed, they claimed to be correcting this 'bug' as soon as possible. The goal of this project is to verify if Fandango has indeed fixed their rating inflation practices. "
   ]
  },
  {
   "cell_type": "code",
   "execution_count": 1,
   "id": "a61e72f3",
   "metadata": {},
   "outputs": [],
   "source": [
    "import pandas as pd\n",
    "score_comparison = pd.read_csv('fandango_score_comparison.csv')\n",
    "ratings_16_17 = pd.read_csv('movie_ratings_16_17.csv')"
   ]
  },
  {
   "cell_type": "code",
   "execution_count": 2,
   "id": "e0fbf6d5",
   "metadata": {},
   "outputs": [],
   "source": [
    "comparison = score_comparison[['FILM', 'Fandango_Stars', 'Fandango_Ratingvalue', 'Fandango_votes', 'Fandango_Difference']]"
   ]
  },
  {
   "cell_type": "code",
   "execution_count": 3,
   "id": "89c8e2f0",
   "metadata": {},
   "outputs": [],
   "source": [
    "ratings = ratings_16_17[['movie', 'year', 'fandango']]"
   ]
  },
  {
   "cell_type": "code",
   "execution_count": 4,
   "id": "7ea29edf",
   "metadata": {},
   "outputs": [
    {
     "data": {
      "text/html": [
       "<div>\n",
       "<style scoped>\n",
       "    .dataframe tbody tr th:only-of-type {\n",
       "        vertical-align: middle;\n",
       "    }\n",
       "\n",
       "    .dataframe tbody tr th {\n",
       "        vertical-align: top;\n",
       "    }\n",
       "\n",
       "    .dataframe thead th {\n",
       "        text-align: right;\n",
       "    }\n",
       "</style>\n",
       "<table border=\"1\" class=\"dataframe\">\n",
       "  <thead>\n",
       "    <tr style=\"text-align: right;\">\n",
       "      <th></th>\n",
       "      <th>FILM</th>\n",
       "      <th>Fandango_Stars</th>\n",
       "      <th>Fandango_Ratingvalue</th>\n",
       "      <th>Fandango_votes</th>\n",
       "      <th>Fandango_Difference</th>\n",
       "    </tr>\n",
       "  </thead>\n",
       "  <tbody>\n",
       "    <tr>\n",
       "      <th>0</th>\n",
       "      <td>Avengers: Age of Ultron (2015)</td>\n",
       "      <td>5.0</td>\n",
       "      <td>4.5</td>\n",
       "      <td>14846</td>\n",
       "      <td>0.5</td>\n",
       "    </tr>\n",
       "    <tr>\n",
       "      <th>1</th>\n",
       "      <td>Cinderella (2015)</td>\n",
       "      <td>5.0</td>\n",
       "      <td>4.5</td>\n",
       "      <td>12640</td>\n",
       "      <td>0.5</td>\n",
       "    </tr>\n",
       "    <tr>\n",
       "      <th>2</th>\n",
       "      <td>Ant-Man (2015)</td>\n",
       "      <td>5.0</td>\n",
       "      <td>4.5</td>\n",
       "      <td>12055</td>\n",
       "      <td>0.5</td>\n",
       "    </tr>\n",
       "    <tr>\n",
       "      <th>3</th>\n",
       "      <td>Do You Believe? (2015)</td>\n",
       "      <td>5.0</td>\n",
       "      <td>4.5</td>\n",
       "      <td>1793</td>\n",
       "      <td>0.5</td>\n",
       "    </tr>\n",
       "    <tr>\n",
       "      <th>4</th>\n",
       "      <td>Hot Tub Time Machine 2 (2015)</td>\n",
       "      <td>3.5</td>\n",
       "      <td>3.0</td>\n",
       "      <td>1021</td>\n",
       "      <td>0.5</td>\n",
       "    </tr>\n",
       "  </tbody>\n",
       "</table>\n",
       "</div>"
      ],
      "text/plain": [
       "                             FILM  Fandango_Stars  Fandango_Ratingvalue  \\\n",
       "0  Avengers: Age of Ultron (2015)             5.0                   4.5   \n",
       "1               Cinderella (2015)             5.0                   4.5   \n",
       "2                  Ant-Man (2015)             5.0                   4.5   \n",
       "3          Do You Believe? (2015)             5.0                   4.5   \n",
       "4   Hot Tub Time Machine 2 (2015)             3.5                   3.0   \n",
       "\n",
       "   Fandango_votes  Fandango_Difference  \n",
       "0           14846                  0.5  \n",
       "1           12640                  0.5  \n",
       "2           12055                  0.5  \n",
       "3            1793                  0.5  \n",
       "4            1021                  0.5  "
      ]
     },
     "execution_count": 4,
     "metadata": {},
     "output_type": "execute_result"
    }
   ],
   "source": [
    "comparison.head()"
   ]
  },
  {
   "cell_type": "code",
   "execution_count": 5,
   "id": "e1eb96a8",
   "metadata": {},
   "outputs": [
    {
     "data": {
      "text/html": [
       "<div>\n",
       "<style scoped>\n",
       "    .dataframe tbody tr th:only-of-type {\n",
       "        vertical-align: middle;\n",
       "    }\n",
       "\n",
       "    .dataframe tbody tr th {\n",
       "        vertical-align: top;\n",
       "    }\n",
       "\n",
       "    .dataframe thead th {\n",
       "        text-align: right;\n",
       "    }\n",
       "</style>\n",
       "<table border=\"1\" class=\"dataframe\">\n",
       "  <thead>\n",
       "    <tr style=\"text-align: right;\">\n",
       "      <th></th>\n",
       "      <th>movie</th>\n",
       "      <th>year</th>\n",
       "      <th>fandango</th>\n",
       "    </tr>\n",
       "  </thead>\n",
       "  <tbody>\n",
       "    <tr>\n",
       "      <th>0</th>\n",
       "      <td>10 Cloverfield Lane</td>\n",
       "      <td>2016</td>\n",
       "      <td>3.5</td>\n",
       "    </tr>\n",
       "    <tr>\n",
       "      <th>1</th>\n",
       "      <td>13 Hours</td>\n",
       "      <td>2016</td>\n",
       "      <td>4.5</td>\n",
       "    </tr>\n",
       "    <tr>\n",
       "      <th>2</th>\n",
       "      <td>A Cure for Wellness</td>\n",
       "      <td>2016</td>\n",
       "      <td>3.0</td>\n",
       "    </tr>\n",
       "    <tr>\n",
       "      <th>3</th>\n",
       "      <td>A Dog's Purpose</td>\n",
       "      <td>2017</td>\n",
       "      <td>4.5</td>\n",
       "    </tr>\n",
       "    <tr>\n",
       "      <th>4</th>\n",
       "      <td>A Hologram for the King</td>\n",
       "      <td>2016</td>\n",
       "      <td>3.0</td>\n",
       "    </tr>\n",
       "  </tbody>\n",
       "</table>\n",
       "</div>"
      ],
      "text/plain": [
       "                     movie  year  fandango\n",
       "0      10 Cloverfield Lane  2016       3.5\n",
       "1                 13 Hours  2016       4.5\n",
       "2      A Cure for Wellness  2016       3.0\n",
       "3          A Dog's Purpose  2017       4.5\n",
       "4  A Hologram for the King  2016       3.0"
      ]
     },
     "execution_count": 5,
     "metadata": {},
     "output_type": "execute_result"
    }
   ],
   "source": [
    "ratings.head()"
   ]
  },
  {
   "cell_type": "markdown",
   "id": "b5467f88",
   "metadata": {},
   "source": [
    "These two samples currently have an issue. We cannot complete our initial goal by comparing different movies released in different years. Because of this, a pivot is being made to inspect 'popular' movies from 2015 vs. popular movies from 2016. Popular is defined by having 30 or more fandango fan votes, or movies having a fandango rating of 3 stars or more."
   ]
  },
  {
   "cell_type": "code",
   "execution_count": 6,
   "id": "2dfb922a",
   "metadata": {},
   "outputs": [],
   "source": [
    "fifteen = comparison[comparison['FILM'].str.contains('2015') ]"
   ]
  },
  {
   "cell_type": "code",
   "execution_count": 7,
   "id": "510887e8",
   "metadata": {},
   "outputs": [],
   "source": [
    "sixteen = ratings[ratings['year'] == 2016]\n",
    "sixteen = sixteen[sixteen['fandango'] >= 3.0]"
   ]
  },
  {
   "cell_type": "code",
   "execution_count": 8,
   "id": "ed07d301",
   "metadata": {},
   "outputs": [
    {
     "name": "stdout",
     "output_type": "stream",
     "text": [
      "<class 'pandas.core.frame.DataFrame'>\n",
      "Int64Index: 129 entries, 0 to 145\n",
      "Data columns (total 5 columns):\n",
      " #   Column                Non-Null Count  Dtype  \n",
      "---  ------                --------------  -----  \n",
      " 0   FILM                  129 non-null    object \n",
      " 1   Fandango_Stars        129 non-null    float64\n",
      " 2   Fandango_Ratingvalue  129 non-null    float64\n",
      " 3   Fandango_votes        129 non-null    int64  \n",
      " 4   Fandango_Difference   129 non-null    float64\n",
      "dtypes: float64(3), int64(1), object(1)\n",
      "memory usage: 6.0+ KB\n",
      "None\n",
      "<class 'pandas.core.frame.DataFrame'>\n",
      "Int64Index: 185 entries, 0 to 213\n",
      "Data columns (total 3 columns):\n",
      " #   Column    Non-Null Count  Dtype  \n",
      "---  ------    --------------  -----  \n",
      " 0   movie     185 non-null    object \n",
      " 1   year      185 non-null    int64  \n",
      " 2   fandango  185 non-null    float64\n",
      "dtypes: float64(1), int64(1), object(1)\n",
      "memory usage: 5.8+ KB\n",
      "None\n"
     ]
    }
   ],
   "source": [
    "print(fifteen.info())\n",
    "print(sixteen.info())"
   ]
  },
  {
   "cell_type": "code",
   "execution_count": 9,
   "id": "a217f883",
   "metadata": {},
   "outputs": [],
   "source": [
    "import seaborn as sns\n",
    "import matplotlib.pyplot as plt\n",
    "%matplotlib inline"
   ]
  },
  {
   "cell_type": "code",
   "execution_count": 10,
   "id": "6d4d394a",
   "metadata": {},
   "outputs": [
    {
     "data": {
      "image/png": "[encoded data removed]",
      "text/plain": [
       "<Figure size 640x480 with 1 Axes>"
      ]
     },
     "metadata": {},
     "output_type": "display_data"
    }
   ],
   "source": [
    "plt.style.use('fivethirtyeight')\n",
    "fifteen['Fandango_Stars'].plot.kde(label='2015', legend=True, \n",
    "                                   xticks = [0, 0.5, 1.0, 1.5, 2.0, 2.5, 3.0, 3.5, 4.0, 4.5, 5.0], \n",
    "                                   \n",
    "                                  )\n",
    "sixteen['fandango'].plot.kde(label='2016', legend=True, \n",
    "                             xticks = [0, 0.5, 1.0, 1.5, 2.0, 2.5, 3.0, 3.5, 4.0, 4.5, 5.0], \n",
    "                             title='Ratings comparison of movies from 2015 and 2016 on Fandango', fontsize=12, ylabel = 'Stars'\n",
    "                            )\n",
    "plt.show()"
   ]
  },
  {
   "cell_type": "markdown",
   "id": "54aa6c82",
   "metadata": {},
   "source": [
    "There seems to be a few main differenes in the ratings from 2015 and 2016. The ratings from 2015 show a heavy left skew, with ratings increasing as 4.5 stars is approached. In contrast, 2016 shows almost a normal distribution around 4.0 stars, with local peaks at 3.5 and 4.5. These peaks can be attributed to the half-number nature of the data, where numbers can only exist in intervals of 0.5. It appears that movies from 2016 are generally rated lower than movies from 2015. The graph suggests that Fandango did make a change in their ratings, but it is unclear if this change is still somewhat fabricated."
   ]
  },
  {
   "cell_type": "code",
   "execution_count": 11,
   "id": "765711f6",
   "metadata": {},
   "outputs": [],
   "source": [
    "fifteen_fq = fifteen['Fandango_Stars'].value_counts(normalize=True).sort_index()*100\n",
    "sixteen_fq = sixteen['fandango'].value_counts(normalize=True).sort_index()*100"
   ]
  },
  {
   "cell_type": "code",
   "execution_count": 12,
   "id": "d30b745f",
   "metadata": {},
   "outputs": [
    {
     "name": "stdout",
     "output_type": "stream",
     "text": [
      "3.0     8.527132\n",
      "3.5    17.829457\n",
      "4.0    28.682171\n",
      "4.5    37.984496\n",
      "5.0     6.976744\n",
      "Name: Fandango_Stars, dtype: float64\n"
     ]
    }
   ],
   "source": [
    "print(fifteen_fq)"
   ]
  },
  {
   "cell_type": "code",
   "execution_count": 13,
   "id": "7f5cb5d8",
   "metadata": {},
   "outputs": [
    {
     "name": "stdout",
     "output_type": "stream",
     "text": [
      "3.0     7.567568\n",
      "3.5    24.864865\n",
      "4.0    41.621622\n",
      "4.5    25.405405\n",
      "5.0     0.540541\n",
      "Name: fandango, dtype: float64\n"
     ]
    }
   ],
   "source": [
    "print(sixteen_fq)"
   ]
  },
  {
   "cell_type": "markdown",
   "id": "effd0313",
   "metadata": {},
   "source": [
    "Even just looking at the frequency tables the difference is clear that movies from 2015 are rated better than movies from 2016. Although, this is easier to grasp in the density plot above. "
   ]
  },
  {
   "cell_type": "code",
   "execution_count": 52,
   "id": "9f592587",
   "metadata": {},
   "outputs": [],
   "source": [
    "fif_mean = fifteen['Fandango_Stars'].mean()\n",
    "fif_median = fifteen['Fandango_Stars'].median()\n",
    "fif_mode = fifteen['Fandango_Stars'].mode()[0]\n",
    "\n",
    "six_mean = sixteen['fandango'].mean()\n",
    "six_median = sixteen['fandango'].median()\n",
    "six_mode = sixteen['fandango'].mode()[0]"
   ]
  },
  {
   "cell_type": "code",
   "execution_count": 53,
   "id": "5d401061",
   "metadata": {},
   "outputs": [
    {
     "name": "stdout",
     "output_type": "stream",
     "text": [
      "4.0852713178294575 3.9324324324324325 4.0 4.0 4.5 4.0\n"
     ]
    }
   ],
   "source": [
    "print(fif_mean, six_mean, fif_median, six_median, fif_mode, six_mode)"
   ]
  },
  {
   "cell_type": "code",
   "execution_count": 54,
   "id": "e8f7bbd2",
   "metadata": {},
   "outputs": [
    {
     "data": {
      "text/html": [
       "<div>\n",
       "<style scoped>\n",
       "    .dataframe tbody tr th:only-of-type {\n",
       "        vertical-align: middle;\n",
       "    }\n",
       "\n",
       "    .dataframe tbody tr th {\n",
       "        vertical-align: top;\n",
       "    }\n",
       "\n",
       "    .dataframe thead th {\n",
       "        text-align: right;\n",
       "    }\n",
       "</style>\n",
       "<table border=\"1\" class=\"dataframe\">\n",
       "  <thead>\n",
       "    <tr style=\"text-align: right;\">\n",
       "      <th></th>\n",
       "      <th>2015</th>\n",
       "      <th>2016</th>\n",
       "    </tr>\n",
       "  </thead>\n",
       "  <tbody>\n",
       "    <tr>\n",
       "      <th>mean</th>\n",
       "      <td>4.085271</td>\n",
       "      <td>4.0</td>\n",
       "    </tr>\n",
       "    <tr>\n",
       "      <th>median</th>\n",
       "      <td>4.000000</td>\n",
       "      <td>4.0</td>\n",
       "    </tr>\n",
       "    <tr>\n",
       "      <th>mode</th>\n",
       "      <td>4.500000</td>\n",
       "      <td>4.0</td>\n",
       "    </tr>\n",
       "  </tbody>\n",
       "</table>\n",
       "</div>"
      ],
      "text/plain": [
       "            2015  2016\n",
       "mean    4.085271   4.0\n",
       "median  4.000000   4.0\n",
       "mode    4.500000   4.0"
      ]
     },
     "execution_count": 54,
     "metadata": {},
     "output_type": "execute_result"
    }
   ],
   "source": [
    "combined = pd.DataFrame(data=({'2015': [fif_mean, fif_median, fif_mode], \n",
    "                               '2016': [six_median, six_median, six_mode], \n",
    "                              }))\n",
    "combined.index = ['mean','median','mode']\n",
    "combined"
   ]
  },
  {
   "cell_type": "code",
   "execution_count": 56,
   "id": "f78bc098",
   "metadata": {},
   "outputs": [
    {
     "data": {
      "image/png": "[encoded data removed]",
      "text/plain": [
       "<Figure size 800x500 with 1 Axes>"
      ]
     },
     "metadata": {},
     "output_type": "display_data"
    }
   ],
   "source": [
    "plt.style.use('fivethirtyeight')\n",
    "combined['2015'].plot.bar(color = '#0066FF', align = 'center', label = '2015', width = .25)\n",
    "combined['2016'].plot.bar(color = '#CC0000', align = 'edge', label = '2016', width = .25,\n",
    "                         rot = 0, figsize = (8,5))\n",
    "\n",
    "plt.title('Comparing summary statistics: 2015 vs 2016', y = 1.07)\n",
    "plt.ylim(0,5.5)\n",
    "\n",
    "plt.ylabel('Stars')\n",
    "plt.legend(framealpha = 0, loc = 'upper center')\n",
    "plt.show()"
   ]
  },
  {
   "cell_type": "markdown",
   "id": "98c33af3",
   "metadata": {},
   "source": [
    "Summary"
   ]
  },
  {
   "cell_type": "markdown",
   "id": "9f734459",
   "metadata": {},
   "source": [
    "These are a few next steps to consider:\n",
    "\n",
    "1. Customize your graphs more by reproducing almost completely the FiveThirtyEight style. You can take a look at this tutorial if you want to do that.\n",
    "2. Improve your project from a stylistical point of view by following the guidelines discussed in this style guide.\n",
    "3. Use the two samples to compare ratings of different movie ratings aggregators and recommend what's the best website to check for a movie rating. There are many approaches you can take here — you can take some inspiration from this article.\n",
    "4. Collect recent movie ratings data and formulate your own research questions. You can take a look at this blog post to learn how to scrape movie ratings for IMDB and Metacritic."
   ]
  },
  {
   "cell_type": "code",
   "execution_count": null,
   "id": "635bb9b5",
   "metadata": {},
   "outputs": [],
   "source": []
  }
 ],
 "metadata": {
  "kernelspec": {
   "display_name": "Python 3 (ipykernel)",
   "language": "python",
   "name": "python3"
  },
  "language_info": {
   "codemirror_mode": {
    "name": "ipython",
    "version": 3
   },
   "file_extension": ".py",
   "mimetype": "text/x-python",
   "name": "python",
   "nbconvert_exporter": "python",
   "pygments_lexer": "ipython3",
   "version": "3.9.13"
  }
 },
 "nbformat": 4,
 "nbformat_minor": 5
}
